{
 "cells": [
  {
   "cell_type": "markdown",
   "id": "a02094c5",
   "metadata": {},
   "source": [
    "# Факультативное задание\n",
    "\n",
    "**Задание.**\n",
    "\n",
    "Удалите из events события для редких айтемов — таких, с которыми взаимодействовало менее N пользователей.\n",
    "\n",
    "Возьмите небольшое N, например 2–3 пользователя.\n",
    "\n",
    "Получите рекомендации, посчитайте метрики, оцените, как они изменились.\n",
    "\n",
    "Подумайте, с чем могут быть связаны такие изменения."
   ]
  },
  {
   "cell_type": "markdown",
   "id": "b3589a9a-ce16-4d2e-b581-d75139fc58b3",
   "metadata": {},
   "source": [
    "# Initialization"
   ]
  },
  {
   "cell_type": "code",
   "execution_count": 1,
   "id": "c6e28b2f-3822-4e27-b576-9bc42b279b32",
   "metadata": {},
   "outputs": [],
   "source": [
    "import numpy as np\n",
    "import pandas as pd"
   ]
  },
  {
   "cell_type": "code",
   "execution_count": 2,
   "id": "112c271f",
   "metadata": {},
   "outputs": [],
   "source": [
    "from sklearn.metrics import mean_squared_error, mean_absolute_error"
   ]
  },
  {
   "cell_type": "code",
   "execution_count": 3,
   "id": "a7b8022d",
   "metadata": {},
   "outputs": [],
   "source": [
    "import surprise"
   ]
  },
  {
   "cell_type": "code",
   "execution_count": 4,
   "id": "4e53bc65-3e32-454b-b353-e9b95489c26c",
   "metadata": {},
   "outputs": [],
   "source": [
    "%matplotlib inline\n",
    "%config InlineBackend.figure_format = 'png'\n",
    "%config InlineBackend.figure_format = 'retina'"
   ]
  },
  {
   "cell_type": "code",
   "execution_count": 5,
   "id": "d43ee635",
   "metadata": {},
   "outputs": [],
   "source": [
    "def mdir(obj):\n",
    "    print(*[i for i in dir(obj) if not i.startswith(\"_\")], sep=\"\\n\")"
   ]
  },
  {
   "cell_type": "markdown",
   "id": "e8b1d982-8795-45c2-b221-6e5a07eaa150",
   "metadata": {},
   "source": [
    "# Загрузка данных"
   ]
  },
  {
   "cell_type": "code",
   "execution_count": 6,
   "id": "6ab0db85-17df-4a4f-b23c-e9cd983d8c43",
   "metadata": {},
   "outputs": [],
   "source": [
    "events = pd.read_parquet(\"events.par\")"
   ]
  },
  {
   "cell_type": "code",
   "execution_count": 8,
   "id": "f3993a14",
   "metadata": {},
   "outputs": [
    {
     "data": {
      "text/plain": [
       "(11751086, 9)"
      ]
     },
     "execution_count": 8,
     "metadata": {},
     "output_type": "execute_result"
    }
   ],
   "source": [
    "events.shape"
   ]
  },
  {
   "cell_type": "code",
   "execution_count": 9,
   "id": "dd09932f",
   "metadata": {},
   "outputs": [
    {
     "data": {
      "text/html": [
       "<div>\n",
       "<style scoped>\n",
       "    .dataframe tbody tr th:only-of-type {\n",
       "        vertical-align: middle;\n",
       "    }\n",
       "\n",
       "    .dataframe tbody tr th {\n",
       "        vertical-align: top;\n",
       "    }\n",
       "\n",
       "    .dataframe thead th {\n",
       "        text-align: right;\n",
       "    }\n",
       "</style>\n",
       "<table border=\"1\" class=\"dataframe\">\n",
       "  <thead>\n",
       "    <tr style=\"text-align: right;\">\n",
       "      <th></th>\n",
       "      <th>user_id</th>\n",
       "      <th>item_id</th>\n",
       "      <th>started_at</th>\n",
       "      <th>read_at</th>\n",
       "      <th>is_read</th>\n",
       "      <th>rating</th>\n",
       "      <th>is_reviewed</th>\n",
       "      <th>started_at_month</th>\n",
       "      <th>user_id_old</th>\n",
       "    </tr>\n",
       "  </thead>\n",
       "  <tbody>\n",
       "    <tr>\n",
       "      <th>0</th>\n",
       "      <td>1000000</td>\n",
       "      <td>11012</td>\n",
       "      <td>2015-12-05</td>\n",
       "      <td>2015-12-11</td>\n",
       "      <td>True</td>\n",
       "      <td>4</td>\n",
       "      <td>False</td>\n",
       "      <td>2015-12-01</td>\n",
       "      <td>00000377eea48021d3002730d56aca9a</td>\n",
       "    </tr>\n",
       "    <tr>\n",
       "      <th>1</th>\n",
       "      <td>1000000</td>\n",
       "      <td>4671</td>\n",
       "      <td>2014-06-05</td>\n",
       "      <td>2014-06-30</td>\n",
       "      <td>True</td>\n",
       "      <td>5</td>\n",
       "      <td>False</td>\n",
       "      <td>2014-06-01</td>\n",
       "      <td>00000377eea48021d3002730d56aca9a</td>\n",
       "    </tr>\n",
       "    <tr>\n",
       "      <th>2</th>\n",
       "      <td>1000000</td>\n",
       "      <td>5</td>\n",
       "      <td>2012-10-02</td>\n",
       "      <td>2012-10-24</td>\n",
       "      <td>True</td>\n",
       "      <td>5</td>\n",
       "      <td>False</td>\n",
       "      <td>2012-10-01</td>\n",
       "      <td>00000377eea48021d3002730d56aca9a</td>\n",
       "    </tr>\n",
       "    <tr>\n",
       "      <th>3</th>\n",
       "      <td>1000000</td>\n",
       "      <td>2</td>\n",
       "      <td>2009-07-12</td>\n",
       "      <td>2009-07-29</td>\n",
       "      <td>True</td>\n",
       "      <td>5</td>\n",
       "      <td>False</td>\n",
       "      <td>2009-07-01</td>\n",
       "      <td>00000377eea48021d3002730d56aca9a</td>\n",
       "    </tr>\n",
       "    <tr>\n",
       "      <th>4</th>\n",
       "      <td>1000000</td>\n",
       "      <td>14497</td>\n",
       "      <td>2016-05-09</td>\n",
       "      <td>2016-06-02</td>\n",
       "      <td>True</td>\n",
       "      <td>5</td>\n",
       "      <td>False</td>\n",
       "      <td>2016-05-01</td>\n",
       "      <td>00000377eea48021d3002730d56aca9a</td>\n",
       "    </tr>\n",
       "  </tbody>\n",
       "</table>\n",
       "</div>"
      ],
      "text/plain": [
       "   user_id  item_id  started_at     read_at  is_read  rating  is_reviewed  \\\n",
       "0  1000000    11012  2015-12-05  2015-12-11     True       4        False   \n",
       "1  1000000     4671  2014-06-05  2014-06-30     True       5        False   \n",
       "2  1000000        5  2012-10-02  2012-10-24     True       5        False   \n",
       "3  1000000        2  2009-07-12  2009-07-29     True       5        False   \n",
       "4  1000000    14497  2016-05-09  2016-06-02     True       5        False   \n",
       "\n",
       "  started_at_month                       user_id_old  \n",
       "0       2015-12-01  00000377eea48021d3002730d56aca9a  \n",
       "1       2014-06-01  00000377eea48021d3002730d56aca9a  \n",
       "2       2012-10-01  00000377eea48021d3002730d56aca9a  \n",
       "3       2009-07-01  00000377eea48021d3002730d56aca9a  \n",
       "4       2016-05-01  00000377eea48021d3002730d56aca9a  "
      ]
     },
     "execution_count": 9,
     "metadata": {},
     "output_type": "execute_result"
    }
   ],
   "source": [
    "events.head()"
   ]
  },
  {
   "cell_type": "code",
   "execution_count": 10,
   "id": "7ea857c2",
   "metadata": {},
   "outputs": [],
   "source": [
    "events = events.groupby(\"item_id\").filter(lambda x: x[\"user_id\"].nunique() > 3)"
   ]
  },
  {
   "cell_type": "code",
   "execution_count": 11,
   "id": "72498b37",
   "metadata": {},
   "outputs": [
    {
     "data": {
      "text/plain": [
       "(11742745, 9)"
      ]
     },
     "execution_count": 11,
     "metadata": {},
     "output_type": "execute_result"
    }
   ],
   "source": [
    "events.shape"
   ]
  },
  {
   "cell_type": "code",
   "execution_count": 39,
   "id": "f18f3e43",
   "metadata": {},
   "outputs": [
    {
     "name": "stdout",
     "output_type": "stream",
     "text": [
      "Удалено 0.07%\n"
     ]
    }
   ],
   "source": [
    "print(f\"Удалено {1 - 11742745 / 11751086:.2%}\")"
   ]
  },
  {
   "cell_type": "markdown",
   "id": "f18f28dd-0371-4144-bf11-d077d44e8de0",
   "metadata": {},
   "source": [
    "# Разбиение с учётом хронологии"
   ]
  },
  {
   "cell_type": "markdown",
   "id": "47016708-6f94-4518-886c-58fa6e7bb315",
   "metadata": {},
   "source": [
    "Рекомендательные системы на практике работают с учётом хронологии. Поэтому поток событий для тренировки и валидации полезно делить на то, что уже случилось, и что ещё случится. Это позволяет проводить валидацию на тех же пользователях, на которых тренировались, но на их событиях в будущем."
   ]
  },
  {
   "cell_type": "markdown",
   "id": "01080e94",
   "metadata": {},
   "source": [
    "В качестве точки разбиения используем `2017-08-01`, то есть отнесем в тестовую часть три последних месяца."
   ]
  },
  {
   "cell_type": "code",
   "execution_count": 12,
   "id": "b7aca907",
   "metadata": {},
   "outputs": [
    {
     "name": "stdout",
     "output_type": "stream",
     "text": [
      "428206 123136 120765\n"
     ]
    }
   ],
   "source": [
    "# зададим точку разбиения\n",
    "train_test_global_time_split_date = pd.to_datetime(\"2017-08-01\").date()\n",
    "\n",
    "train_test_global_time_split_idx = events[\"started_at\"] < train_test_global_time_split_date\n",
    "events_train = events[train_test_global_time_split_idx]\n",
    "events_test = events[~train_test_global_time_split_idx]\n",
    "\n",
    "# количество пользователей в train и test\n",
    "users_train = events_train[\"user_id\"].drop_duplicates()\n",
    "users_test = events_test[\"user_id\"].drop_duplicates()\n",
    "# количество пользователей, которые есть и в train, и в test\n",
    "common_users = np.intersect1d(users_train, users_test)\n",
    "\n",
    "print(len(users_train), len(users_test), len(common_users)) "
   ]
  },
  {
   "cell_type": "markdown",
   "id": "e8df5897-bbcd-4364-b5d3-ec7d1de6743a",
   "metadata": {},
   "source": [
    "# === Знакомство: \"холодный\" старт"
   ]
  },
  {
   "cell_type": "markdown",
   "id": "4713c062-c9cd-425f-8174-cf133c4730d1",
   "metadata": {},
   "source": [
    "## \"Холодные\" пользователи"
   ]
  },
  {
   "cell_type": "markdown",
   "id": "790b3c30",
   "metadata": {},
   "source": [
    "«Холодные» пользователи — те, которые есть в `test`, но отсутствуют в `train`. Это соответствует хронологическому порядку, в котором и работает рекомендательная система."
   ]
  },
  {
   "cell_type": "code",
   "execution_count": 13,
   "id": "4cb94a23-8d1d-4025-908f-f290013fa429",
   "metadata": {},
   "outputs": [
    {
     "name": "stdout",
     "output_type": "stream",
     "text": [
      "2371\n"
     ]
    }
   ],
   "source": [
    "cold_users = np.setdiff1d(users_test, users_train)\n",
    "\n",
    "print(len(cold_users)) "
   ]
  },
  {
   "cell_type": "markdown",
   "id": "0fde42b3",
   "metadata": {},
   "source": [
    "## Топ-100 наиболее популярных книг"
   ]
  },
  {
   "cell_type": "markdown",
   "id": "2fb9b805",
   "metadata": {},
   "source": [
    "Теперь можно построить сами рекомендации. Для этого найдем топ-100 наиболее популярных книг (учитывая и их среднюю оценку) за последние несколько лет. Например, с 2015 года и со средней оценкой не меньше 4. Их мы будем рекомендовать «холодным» пользователям."
   ]
  },
  {
   "cell_type": "code",
   "execution_count": 14,
   "id": "c75a233c",
   "metadata": {},
   "outputs": [],
   "source": [
    "top_pop_start_date = pd.to_datetime(\"2015-01-01\").date()\n",
    "\n",
    "item_popularity = events_train \\\n",
    "    .query(\"started_at >= @top_pop_start_date\") \\\n",
    "    .groupby([\"item_id\"]).agg(users=(\"user_id\", \"nunique\"), avg_rating=(\"rating\", \"mean\")).reset_index()"
   ]
  },
  {
   "cell_type": "code",
   "execution_count": 15,
   "id": "6130bc09",
   "metadata": {},
   "outputs": [
    {
     "data": {
      "text/html": [
       "<div>\n",
       "<style scoped>\n",
       "    .dataframe tbody tr th:only-of-type {\n",
       "        vertical-align: middle;\n",
       "    }\n",
       "\n",
       "    .dataframe tbody tr th {\n",
       "        vertical-align: top;\n",
       "    }\n",
       "\n",
       "    .dataframe thead th {\n",
       "        text-align: right;\n",
       "    }\n",
       "</style>\n",
       "<table border=\"1\" class=\"dataframe\">\n",
       "  <thead>\n",
       "    <tr style=\"text-align: right;\">\n",
       "      <th></th>\n",
       "      <th>item_id</th>\n",
       "      <th>users</th>\n",
       "      <th>avg_rating</th>\n",
       "    </tr>\n",
       "  </thead>\n",
       "  <tbody>\n",
       "    <tr>\n",
       "      <th>0</th>\n",
       "      <td>1</td>\n",
       "      <td>8728</td>\n",
       "      <td>4.796059</td>\n",
       "    </tr>\n",
       "    <tr>\n",
       "      <th>1</th>\n",
       "      <td>2</td>\n",
       "      <td>9528</td>\n",
       "      <td>4.685873</td>\n",
       "    </tr>\n",
       "    <tr>\n",
       "      <th>2</th>\n",
       "      <td>3</td>\n",
       "      <td>15139</td>\n",
       "      <td>4.706057</td>\n",
       "    </tr>\n",
       "    <tr>\n",
       "      <th>3</th>\n",
       "      <td>5</td>\n",
       "      <td>11890</td>\n",
       "      <td>4.770143</td>\n",
       "    </tr>\n",
       "    <tr>\n",
       "      <th>4</th>\n",
       "      <td>6</td>\n",
       "      <td>10679</td>\n",
       "      <td>4.764772</td>\n",
       "    </tr>\n",
       "  </tbody>\n",
       "</table>\n",
       "</div>"
      ],
      "text/plain": [
       "   item_id  users  avg_rating\n",
       "0        1   8728    4.796059\n",
       "1        2   9528    4.685873\n",
       "2        3  15139    4.706057\n",
       "3        5  11890    4.770143\n",
       "4        6  10679    4.764772"
      ]
     },
     "execution_count": 15,
     "metadata": {},
     "output_type": "execute_result"
    }
   ],
   "source": [
    "item_popularity.head()"
   ]
  },
  {
   "cell_type": "code",
   "execution_count": 16,
   "id": "c504f0cc",
   "metadata": {},
   "outputs": [],
   "source": [
    "item_popularity[\"popularity_weighted\"] = item_popularity[\"users\"] * item_popularity[\"avg_rating\"]"
   ]
  },
  {
   "cell_type": "code",
   "execution_count": 17,
   "id": "f42a4029",
   "metadata": {},
   "outputs": [],
   "source": [
    "# сортируем по убыванию взвешенной популярности\n",
    "item_popularity = item_popularity.sort_values(\"popularity_weighted\", ascending=False)\n",
    "\n",
    "# выбираем первые 100 айтемов со средней оценкой avg_rating не меньше 4\n",
    "top_k_pop_items = item_popularity[item_popularity[\"avg_rating\"] > 4].head(100)"
   ]
  },
  {
   "cell_type": "code",
   "execution_count": 18,
   "id": "fbeb7223",
   "metadata": {},
   "outputs": [
    {
     "data": {
      "text/html": [
       "<div>\n",
       "<style scoped>\n",
       "    .dataframe tbody tr th:only-of-type {\n",
       "        vertical-align: middle;\n",
       "    }\n",
       "\n",
       "    .dataframe tbody tr th {\n",
       "        vertical-align: top;\n",
       "    }\n",
       "\n",
       "    .dataframe thead th {\n",
       "        text-align: right;\n",
       "    }\n",
       "</style>\n",
       "<table border=\"1\" class=\"dataframe\">\n",
       "  <thead>\n",
       "    <tr style=\"text-align: right;\">\n",
       "      <th></th>\n",
       "      <th>item_id</th>\n",
       "      <th>users</th>\n",
       "      <th>avg_rating</th>\n",
       "      <th>popularity_weighted</th>\n",
       "    </tr>\n",
       "  </thead>\n",
       "  <tbody>\n",
       "    <tr>\n",
       "      <th>30625</th>\n",
       "      <td>18007564</td>\n",
       "      <td>20207</td>\n",
       "      <td>4.321275</td>\n",
       "      <td>87320.0</td>\n",
       "    </tr>\n",
       "    <tr>\n",
       "      <th>30845</th>\n",
       "      <td>18143977</td>\n",
       "      <td>19462</td>\n",
       "      <td>4.290669</td>\n",
       "      <td>83505.0</td>\n",
       "    </tr>\n",
       "    <tr>\n",
       "      <th>29024</th>\n",
       "      <td>16096824</td>\n",
       "      <td>16770</td>\n",
       "      <td>4.301014</td>\n",
       "      <td>72128.0</td>\n",
       "    </tr>\n",
       "    <tr>\n",
       "      <th>2</th>\n",
       "      <td>3</td>\n",
       "      <td>15139</td>\n",
       "      <td>4.706057</td>\n",
       "      <td>71245.0</td>\n",
       "    </tr>\n",
       "    <tr>\n",
       "      <th>3670</th>\n",
       "      <td>38447</td>\n",
       "      <td>14611</td>\n",
       "      <td>4.232770</td>\n",
       "      <td>61845.0</td>\n",
       "    </tr>\n",
       "    <tr>\n",
       "      <th>...</th>\n",
       "      <td>...</td>\n",
       "      <td>...</td>\n",
       "      <td>...</td>\n",
       "      <td>...</td>\n",
       "    </tr>\n",
       "    <tr>\n",
       "      <th>18542</th>\n",
       "      <td>2767052</td>\n",
       "      <td>4361</td>\n",
       "      <td>4.413437</td>\n",
       "      <td>19247.0</td>\n",
       "    </tr>\n",
       "    <tr>\n",
       "      <th>31045</th>\n",
       "      <td>18293427</td>\n",
       "      <td>4674</td>\n",
       "      <td>4.092640</td>\n",
       "      <td>19129.0</td>\n",
       "    </tr>\n",
       "    <tr>\n",
       "      <th>376</th>\n",
       "      <td>3636</td>\n",
       "      <td>4667</td>\n",
       "      <td>4.098564</td>\n",
       "      <td>19128.0</td>\n",
       "    </tr>\n",
       "    <tr>\n",
       "      <th>31749</th>\n",
       "      <td>18966819</td>\n",
       "      <td>4361</td>\n",
       "      <td>4.374914</td>\n",
       "      <td>19079.0</td>\n",
       "    </tr>\n",
       "    <tr>\n",
       "      <th>34841</th>\n",
       "      <td>26252859</td>\n",
       "      <td>4371</td>\n",
       "      <td>4.293068</td>\n",
       "      <td>18765.0</td>\n",
       "    </tr>\n",
       "  </tbody>\n",
       "</table>\n",
       "<p>100 rows × 4 columns</p>\n",
       "</div>"
      ],
      "text/plain": [
       "        item_id  users  avg_rating  popularity_weighted\n",
       "30625  18007564  20207    4.321275              87320.0\n",
       "30845  18143977  19462    4.290669              83505.0\n",
       "29024  16096824  16770    4.301014              72128.0\n",
       "2             3  15139    4.706057              71245.0\n",
       "3670      38447  14611    4.232770              61845.0\n",
       "...         ...    ...         ...                  ...\n",
       "18542   2767052   4361    4.413437              19247.0\n",
       "31045  18293427   4674    4.092640              19129.0\n",
       "376        3636   4667    4.098564              19128.0\n",
       "31749  18966819   4361    4.374914              19079.0\n",
       "34841  26252859   4371    4.293068              18765.0\n",
       "\n",
       "[100 rows x 4 columns]"
      ]
     },
     "execution_count": 18,
     "metadata": {},
     "output_type": "execute_result"
    }
   ],
   "source": [
    "top_k_pop_items"
   ]
  },
  {
   "cell_type": "markdown",
   "id": "0000cbd1",
   "metadata": {},
   "source": [
    "## Рекомендации"
   ]
  },
  {
   "cell_type": "markdown",
   "id": "79602cdc",
   "metadata": {},
   "source": [
    "Топ-рекомендации назовём рекомендациями по умолчанию (англ. default recommendations).\n",
    "\n",
    "Уже можно оценить их качество — для этого их следует соотнести с событиями из теста, как будто бы вы показываете эти рекомендации «холодным» пользователям, зная их предпочтения."
   ]
  },
  {
   "cell_type": "code",
   "execution_count": 19,
   "id": "55ba2989",
   "metadata": {},
   "outputs": [],
   "source": [
    "# соотнесем события из теста с топ-рекомендациями\n",
    "\n",
    "cold_users_events_with_recs = \\\n",
    "    events_test[events_test[\"user_id\"].isin(cold_users)] \\\n",
    "    .merge(top_k_pop_items[[\"item_id\", \"avg_rating\"]], on=\"item_id\", how=\"left\")"
   ]
  },
  {
   "cell_type": "code",
   "execution_count": 20,
   "id": "09fb2ff5",
   "metadata": {},
   "outputs": [
    {
     "data": {
      "text/plain": [
       "(9667, 10)"
      ]
     },
     "execution_count": 20,
     "metadata": {},
     "output_type": "execute_result"
    }
   ],
   "source": [
    "cold_users_events_with_recs.shape"
   ]
  },
  {
   "cell_type": "code",
   "execution_count": 21,
   "id": "73a9d25b",
   "metadata": {},
   "outputs": [
    {
     "data": {
      "text/html": [
       "<div>\n",
       "<style scoped>\n",
       "    .dataframe tbody tr th:only-of-type {\n",
       "        vertical-align: middle;\n",
       "    }\n",
       "\n",
       "    .dataframe tbody tr th {\n",
       "        vertical-align: top;\n",
       "    }\n",
       "\n",
       "    .dataframe thead th {\n",
       "        text-align: right;\n",
       "    }\n",
       "</style>\n",
       "<table border=\"1\" class=\"dataframe\">\n",
       "  <thead>\n",
       "    <tr style=\"text-align: right;\">\n",
       "      <th></th>\n",
       "      <th>user_id</th>\n",
       "      <th>item_id</th>\n",
       "      <th>started_at</th>\n",
       "      <th>read_at</th>\n",
       "      <th>is_read</th>\n",
       "      <th>rating</th>\n",
       "      <th>is_reviewed</th>\n",
       "      <th>started_at_month</th>\n",
       "      <th>user_id_old</th>\n",
       "      <th>avg_rating</th>\n",
       "    </tr>\n",
       "  </thead>\n",
       "  <tbody>\n",
       "    <tr>\n",
       "      <th>0</th>\n",
       "      <td>1000153</td>\n",
       "      <td>29236299</td>\n",
       "      <td>2017-08-16</td>\n",
       "      <td>2017-08-20</td>\n",
       "      <td>True</td>\n",
       "      <td>5</td>\n",
       "      <td>False</td>\n",
       "      <td>2017-08-01</td>\n",
       "      <td>001ae592ce3cdb7abb6f19b9b4d19638</td>\n",
       "      <td>NaN</td>\n",
       "    </tr>\n",
       "    <tr>\n",
       "      <th>1</th>\n",
       "      <td>1000153</td>\n",
       "      <td>26114463</td>\n",
       "      <td>2017-08-20</td>\n",
       "      <td>2017-09-09</td>\n",
       "      <td>True</td>\n",
       "      <td>5</td>\n",
       "      <td>False</td>\n",
       "      <td>2017-08-01</td>\n",
       "      <td>001ae592ce3cdb7abb6f19b9b4d19638</td>\n",
       "      <td>NaN</td>\n",
       "    </tr>\n",
       "    <tr>\n",
       "      <th>2</th>\n",
       "      <td>1000153</td>\n",
       "      <td>13262783</td>\n",
       "      <td>2017-08-12</td>\n",
       "      <td>2017-08-14</td>\n",
       "      <td>True</td>\n",
       "      <td>5</td>\n",
       "      <td>False</td>\n",
       "      <td>2017-08-01</td>\n",
       "      <td>001ae592ce3cdb7abb6f19b9b4d19638</td>\n",
       "      <td>NaN</td>\n",
       "    </tr>\n",
       "    <tr>\n",
       "      <th>3</th>\n",
       "      <td>1000153</td>\n",
       "      <td>29923707</td>\n",
       "      <td>2017-10-08</td>\n",
       "      <td>2017-10-13</td>\n",
       "      <td>True</td>\n",
       "      <td>4</td>\n",
       "      <td>False</td>\n",
       "      <td>2017-10-01</td>\n",
       "      <td>001ae592ce3cdb7abb6f19b9b4d19638</td>\n",
       "      <td>NaN</td>\n",
       "    </tr>\n",
       "    <tr>\n",
       "      <th>4</th>\n",
       "      <td>1000153</td>\n",
       "      <td>18806259</td>\n",
       "      <td>2017-08-08</td>\n",
       "      <td>2017-08-12</td>\n",
       "      <td>True</td>\n",
       "      <td>3</td>\n",
       "      <td>False</td>\n",
       "      <td>2017-08-01</td>\n",
       "      <td>001ae592ce3cdb7abb6f19b9b4d19638</td>\n",
       "      <td>NaN</td>\n",
       "    </tr>\n",
       "  </tbody>\n",
       "</table>\n",
       "</div>"
      ],
      "text/plain": [
       "   user_id   item_id  started_at     read_at  is_read  rating  is_reviewed  \\\n",
       "0  1000153  29236299  2017-08-16  2017-08-20     True       5        False   \n",
       "1  1000153  26114463  2017-08-20  2017-09-09     True       5        False   \n",
       "2  1000153  13262783  2017-08-12  2017-08-14     True       5        False   \n",
       "3  1000153  29923707  2017-10-08  2017-10-13     True       4        False   \n",
       "4  1000153  18806259  2017-08-08  2017-08-12     True       3        False   \n",
       "\n",
       "  started_at_month                       user_id_old  avg_rating  \n",
       "0       2017-08-01  001ae592ce3cdb7abb6f19b9b4d19638         NaN  \n",
       "1       2017-08-01  001ae592ce3cdb7abb6f19b9b4d19638         NaN  \n",
       "2       2017-08-01  001ae592ce3cdb7abb6f19b9b4d19638         NaN  \n",
       "3       2017-10-01  001ae592ce3cdb7abb6f19b9b4d19638         NaN  \n",
       "4       2017-08-01  001ae592ce3cdb7abb6f19b9b4d19638         NaN  "
      ]
     },
     "execution_count": 21,
     "metadata": {},
     "output_type": "execute_result"
    }
   ],
   "source": [
    "cold_users_events_with_recs.head()"
   ]
  },
  {
   "cell_type": "code",
   "execution_count": 22,
   "id": "9de518a5",
   "metadata": {},
   "outputs": [],
   "source": [
    "# найдем клиентов с покрытием по рекомендациям\n",
    "\n",
    "cold_user_recs = cold_users_events_with_recs.loc[\n",
    "    cold_users_events_with_recs[\"avg_rating\"].notna(), [\"user_id\", \"item_id\", \"rating\", \"avg_rating\"]\n",
    "]"
   ]
  },
  {
   "cell_type": "code",
   "execution_count": 23,
   "id": "da665b93",
   "metadata": {},
   "outputs": [
    {
     "data": {
      "text/plain": [
       "(1912, 4)"
      ]
     },
     "execution_count": 23,
     "metadata": {},
     "output_type": "execute_result"
    }
   ],
   "source": [
    "cold_user_recs.shape"
   ]
  },
  {
   "cell_type": "code",
   "execution_count": 24,
   "id": "0159af3a",
   "metadata": {},
   "outputs": [
    {
     "data": {
      "text/html": [
       "<div>\n",
       "<style scoped>\n",
       "    .dataframe tbody tr th:only-of-type {\n",
       "        vertical-align: middle;\n",
       "    }\n",
       "\n",
       "    .dataframe tbody tr th {\n",
       "        vertical-align: top;\n",
       "    }\n",
       "\n",
       "    .dataframe thead th {\n",
       "        text-align: right;\n",
       "    }\n",
       "</style>\n",
       "<table border=\"1\" class=\"dataframe\">\n",
       "  <thead>\n",
       "    <tr style=\"text-align: right;\">\n",
       "      <th></th>\n",
       "      <th>user_id</th>\n",
       "      <th>item_id</th>\n",
       "      <th>rating</th>\n",
       "      <th>avg_rating</th>\n",
       "    </tr>\n",
       "  </thead>\n",
       "  <tbody>\n",
       "    <tr>\n",
       "      <th>13</th>\n",
       "      <td>1000504</td>\n",
       "      <td>1885</td>\n",
       "      <td>5</td>\n",
       "      <td>4.316316</td>\n",
       "    </tr>\n",
       "    <tr>\n",
       "      <th>17</th>\n",
       "      <td>1000712</td>\n",
       "      <td>13496</td>\n",
       "      <td>5</td>\n",
       "      <td>4.440779</td>\n",
       "    </tr>\n",
       "    <tr>\n",
       "      <th>23</th>\n",
       "      <td>1001508</td>\n",
       "      <td>1885</td>\n",
       "      <td>5</td>\n",
       "      <td>4.316316</td>\n",
       "    </tr>\n",
       "    <tr>\n",
       "      <th>25</th>\n",
       "      <td>1002222</td>\n",
       "      <td>18966819</td>\n",
       "      <td>5</td>\n",
       "      <td>4.374914</td>\n",
       "    </tr>\n",
       "    <tr>\n",
       "      <th>27</th>\n",
       "      <td>1002222</td>\n",
       "      <td>15839976</td>\n",
       "      <td>4</td>\n",
       "      <td>4.150180</td>\n",
       "    </tr>\n",
       "  </tbody>\n",
       "</table>\n",
       "</div>"
      ],
      "text/plain": [
       "    user_id   item_id  rating  avg_rating\n",
       "13  1000504      1885       5    4.316316\n",
       "17  1000712     13496       5    4.440779\n",
       "23  1001508      1885       5    4.316316\n",
       "25  1002222  18966819       5    4.374914\n",
       "27  1002222  15839976       4    4.150180"
      ]
     },
     "execution_count": 24,
     "metadata": {},
     "output_type": "execute_result"
    }
   ],
   "source": [
    "cold_user_recs.head()"
   ]
  },
  {
   "cell_type": "code",
   "execution_count": 25,
   "id": "23f95354",
   "metadata": {},
   "outputs": [
    {
     "data": {
      "text/plain": [
       "0.1977862832316127"
      ]
     },
     "execution_count": 25,
     "metadata": {},
     "output_type": "execute_result"
    }
   ],
   "source": [
    "# Для какой доли событий «холодных» пользователей в events_test рекомендации в top_k_pop_items совпали по книгам\n",
    "\n",
    "cold_users_events_with_recs[\"avg_rating\"].notna().mean()"
   ]
  },
  {
   "cell_type": "markdown",
   "id": "ca17fb60",
   "metadata": {},
   "source": [
    "## Метрики"
   ]
  },
  {
   "cell_type": "markdown",
   "id": "09c453b2",
   "metadata": {},
   "source": [
    "Расчитаем метрики `rmse` и `mae` для полученных рекомендаций."
   ]
  },
  {
   "cell_type": "code",
   "execution_count": 26,
   "id": "5d3b7132",
   "metadata": {},
   "outputs": [
    {
     "data": {
      "text/html": [
       "<div>\n",
       "<style scoped>\n",
       "    .dataframe tbody tr th:only-of-type {\n",
       "        vertical-align: middle;\n",
       "    }\n",
       "\n",
       "    .dataframe tbody tr th {\n",
       "        vertical-align: top;\n",
       "    }\n",
       "\n",
       "    .dataframe thead th {\n",
       "        text-align: right;\n",
       "    }\n",
       "</style>\n",
       "<table border=\"1\" class=\"dataframe\">\n",
       "  <thead>\n",
       "    <tr style=\"text-align: right;\">\n",
       "      <th></th>\n",
       "      <th>user_id</th>\n",
       "      <th>item_id</th>\n",
       "      <th>rating</th>\n",
       "      <th>avg_rating</th>\n",
       "    </tr>\n",
       "  </thead>\n",
       "  <tbody>\n",
       "    <tr>\n",
       "      <th>13</th>\n",
       "      <td>1000504</td>\n",
       "      <td>1885</td>\n",
       "      <td>5</td>\n",
       "      <td>4.316316</td>\n",
       "    </tr>\n",
       "    <tr>\n",
       "      <th>17</th>\n",
       "      <td>1000712</td>\n",
       "      <td>13496</td>\n",
       "      <td>5</td>\n",
       "      <td>4.440779</td>\n",
       "    </tr>\n",
       "    <tr>\n",
       "      <th>23</th>\n",
       "      <td>1001508</td>\n",
       "      <td>1885</td>\n",
       "      <td>5</td>\n",
       "      <td>4.316316</td>\n",
       "    </tr>\n",
       "    <tr>\n",
       "      <th>25</th>\n",
       "      <td>1002222</td>\n",
       "      <td>18966819</td>\n",
       "      <td>5</td>\n",
       "      <td>4.374914</td>\n",
       "    </tr>\n",
       "    <tr>\n",
       "      <th>27</th>\n",
       "      <td>1002222</td>\n",
       "      <td>15839976</td>\n",
       "      <td>4</td>\n",
       "      <td>4.150180</td>\n",
       "    </tr>\n",
       "  </tbody>\n",
       "</table>\n",
       "</div>"
      ],
      "text/plain": [
       "    user_id   item_id  rating  avg_rating\n",
       "13  1000504      1885       5    4.316316\n",
       "17  1000712     13496       5    4.440779\n",
       "23  1001508      1885       5    4.316316\n",
       "25  1002222  18966819       5    4.374914\n",
       "27  1002222  15839976       4    4.150180"
      ]
     },
     "execution_count": 26,
     "metadata": {},
     "output_type": "execute_result"
    }
   ],
   "source": [
    "cold_user_recs.head()"
   ]
  },
  {
   "cell_type": "code",
   "execution_count": 27,
   "id": "c8b84503",
   "metadata": {},
   "outputs": [
    {
     "name": "stdout",
     "output_type": "stream",
     "text": [
      "RMSE = 0.776\n",
      " MAE = 0.625\n"
     ]
    }
   ],
   "source": [
    "rmse = mean_squared_error(cold_user_recs[\"rating\"], cold_user_recs[\"avg_rating\"], squared=False)\n",
    "mae = mean_absolute_error(cold_user_recs[\"rating\"], cold_user_recs[\"avg_rating\"])\n",
    "\n",
    "print(\"RMSE =\", round(rmse, 3))\n",
    "print(\" MAE =\", round(mae, 3))"
   ]
  },
  {
   "cell_type": "markdown",
   "id": "24d61170",
   "metadata": {},
   "source": [
    "### Покрытие холодных пользователей рекомендациями"
   ]
  },
  {
   "cell_type": "markdown",
   "id": "42487b35",
   "metadata": {},
   "source": [
    "Полученная метрика — значение, на которое оценка рекомендации в среднем отклоняется от истинной\n",
    "\n",
    "Это отклонение выглядит небольшим, но в данном случае стоит оценить покрытие как по пользователям, так и по объектам, ведь рекомендации, скорее всего, имеют мало пересечений с оценками пользователей. "
   ]
  },
  {
   "cell_type": "code",
   "execution_count": 28,
   "id": "94856c9d",
   "metadata": {},
   "outputs": [
    {
     "name": "stdout",
     "output_type": "stream",
     "text": [
      "Доля пользователей без релевантных рекомендаций: 0.59\n",
      "Доля пользователей с релевантными рекомендациями: 0.41\n",
      "\n",
      "Среднее покрытие пользователей: 0.44\n"
     ]
    }
   ],
   "source": [
    "# посчитаем покрытие холодных пользователей рекомендациями\n",
    "\n",
    "cold_users_hit_ratio = cold_users_events_with_recs.groupby(\"user_id\").agg(hits=(\"avg_rating\", lambda x: (x.notna()).mean()))\n",
    "\n",
    "print(f\"Доля пользователей без релевантных рекомендаций: {(cold_users_hit_ratio['hits'] == 0).mean():.2f}\")\n",
    "print(f\"Доля пользователей с релевантными рекомендациями: {(cold_users_hit_ratio['hits'] > 0).mean():.2f}\")\n",
    "print(f\"\\nСреднее покрытие пользователей: {cold_users_hit_ratio.loc[cold_users_hit_ratio['hits'] != 0, 'hits'].mean():.2f}\")"
   ]
  },
  {
   "cell_type": "markdown",
   "id": "3545ce6a",
   "metadata": {},
   "source": [
    "«Холодных» пользователей без каких-либо релевантных рекомендаций — 59%, то есть пересечение между оценёнными книгами и рекомендациями есть только у 41%, по ним же и получено значение MAE-метрики. При этом среднее покрытие — 44%. Это значит, что большая часть «холодных» пользователей не получила никаких релевантных рекомендаций, а оставшаяся часть имеет пересечения только по 44% книг. "
   ]
  },
  {
   "cell_type": "markdown",
   "id": "65ef157d-dd5a-4882-8208-40cd9cdfebfc",
   "metadata": {},
   "source": [
    "# === Знакомство: первые персональные рекомендации"
   ]
  },
  {
   "cell_type": "markdown",
   "id": "9818ba96",
   "metadata": {},
   "source": [
    "Степень разреженности матрицы оценок"
   ]
  },
  {
   "cell_type": "code",
   "execution_count": 29,
   "id": "d17fd9ec",
   "metadata": {},
   "outputs": [
    {
     "data": {
      "text/plain": [
       "0.9992666223698916"
      ]
     },
     "execution_count": 29,
     "metadata": {},
     "output_type": "execute_result"
    }
   ],
   "source": [
    "# Степень разреженности матрицы можно оценить как отношение незаполненных ячеек к общему их количеству:\n",
    "\n",
    "sparsity = 1 - events[[\"user_id\", \"item_id\"]].drop_duplicates().shape[0] / (events[\"user_id\"].nunique() * events[\"item_id\"].nunique())\n",
    "sparsity\n"
   ]
  },
  {
   "cell_type": "markdown",
   "id": "ef91aadc",
   "metadata": {},
   "source": [
    "## Реализация SVD-алгоритма"
   ]
  },
  {
   "cell_type": "markdown",
   "id": "bff7f2fc",
   "metadata": {},
   "source": [
    "Воспользуемся готовой реализацией SVD-алгоритма из библиотеки `surprise`. В качестве разбиения данных на `train` и `test` возьмём разбиение из предыдущего урока: `events_train`, `events_test`."
   ]
  },
  {
   "cell_type": "code",
   "execution_count": 31,
   "id": "afee4614",
   "metadata": {},
   "outputs": [],
   "source": [
    "# используем Reader из библиотеки surprise для преобразования событий (events)\n",
    "# в формат, необходимый surprise\n",
    "reader = surprise.Reader(rating_scale=(1, 5))\n",
    "surprise_train_set = surprise.Dataset.load_from_df(events_train[['user_id', 'item_id', 'rating']], reader)"
   ]
  },
  {
   "cell_type": "code",
   "execution_count": 32,
   "id": "c5ac8d20",
   "metadata": {},
   "outputs": [],
   "source": [
    "surprise_train_set = surprise_train_set.build_full_trainset()"
   ]
  },
  {
   "cell_type": "code",
   "execution_count": 33,
   "id": "c09bbb57",
   "metadata": {},
   "outputs": [],
   "source": [
    "# инициализируем модель\n",
    "svd_model = surprise.SVD(n_factors=100, random_state=0)"
   ]
  },
  {
   "cell_type": "code",
   "execution_count": 34,
   "id": "300b4e9a",
   "metadata": {},
   "outputs": [
    {
     "data": {
      "text/plain": [
       "<surprise.prediction_algorithms.matrix_factorization.SVD at 0x7f974580dff0>"
      ]
     },
     "execution_count": 34,
     "metadata": {},
     "output_type": "execute_result"
    }
   ],
   "source": [
    "# обучаем модель\n",
    "svd_model.fit(surprise_train_set)"
   ]
  },
  {
   "cell_type": "markdown",
   "id": "1065bd46",
   "metadata": {},
   "source": [
    "Используя обученную модель, получим рекомендации для тестовой выборки:"
   ]
  },
  {
   "cell_type": "code",
   "execution_count": 35,
   "id": "43ef4429",
   "metadata": {},
   "outputs": [],
   "source": [
    "surprise_test_set = list(events_test[['user_id', 'item_id', 'rating']].itertuples(index=False))\n",
    "\n",
    "# получаем рекомендации для тестовой выборки\n",
    "svd_predictions = svd_model.test(surprise_test_set) "
   ]
  },
  {
   "cell_type": "markdown",
   "id": "9d337d1f",
   "metadata": {},
   "source": [
    "## Оценка рекомендаций"
   ]
  },
  {
   "cell_type": "markdown",
   "id": "15cfafc1",
   "metadata": {},
   "source": [
    "Полученные рекомендации можно оценить, используя встроенный модуль `accuracy` из библиотеки `surprise`:"
   ]
  },
  {
   "cell_type": "code",
   "execution_count": 36,
   "id": "9af5d004",
   "metadata": {},
   "outputs": [
    {
     "name": "stdout",
     "output_type": "stream",
     "text": [
      "RMSE: 0.8268\n",
      "MAE:  0.6464\n",
      "\n",
      "0.8268059754278789 0.6463998925172703\n"
     ]
    }
   ],
   "source": [
    "rmse = surprise.accuracy.rmse(svd_predictions)\n",
    "mae = surprise.accuracy.mae(svd_predictions)\n",
    "\n",
    "print()\n",
    "print(rmse, mae) "
   ]
  },
  {
   "cell_type": "markdown",
   "id": "1fd79f5a",
   "metadata": {},
   "source": [
    "**Значения на полном наборе данных:**\n",
    "\n",
    "RMSE: 0.8263<br/>\n",
    "MAE:  0.6460\n",
    "\n",
    "0.826346375350908 0.6460143973270805"
   ]
  },
  {
   "cell_type": "markdown",
   "id": "146cb3f0",
   "metadata": {},
   "source": [
    "# Выводы:\n",
    "\n",
    "- Метрики по предсказаниям из топ-книг не изменились\n",
    "  - Удаление редких книг не влияет на топ-книги\n",
    "- Метрики SVD-алгоритма стали чуть хуже, но незначительно\n",
    "  - Удалено немного данных (менее 0,1%), плэтому влияние несущественно\n",
    "  - Т.е. событий по редким книгам значительно меньше, чем по популярным\n"
   ]
  },
  {
   "cell_type": "code",
   "execution_count": null,
   "id": "6057231a",
   "metadata": {},
   "outputs": [],
   "source": []
  }
 ],
 "metadata": {
  "kernelspec": {
   "display_name": "Python 3 (ipykernel)",
   "language": "python",
   "name": "python3"
  },
  "language_info": {
   "codemirror_mode": {
    "name": "ipython",
    "version": 3
   },
   "file_extension": ".py",
   "mimetype": "text/x-python",
   "name": "python",
   "nbconvert_exporter": "python",
   "pygments_lexer": "ipython3",
   "version": "3.10.12"
  }
 },
 "nbformat": 4,
 "nbformat_minor": 5
}
